{
 "cells": [
  {
   "cell_type": "code",
   "execution_count": 15,
   "metadata": {},
   "outputs": [],
   "source": [
    "import pandas as pd\n",
    "import BidirectionalStepwiseSelection as ss\n",
    "\n",
    "\n",
    "import numpy as np\n",
    "np.random.seed(1)\n",
    "import tensorflow\n",
    "tensorflow.random.set_seed(2)\n",
    "import matplotlib.pyplot as plt\n",
    "from tensorflow.keras.models import Sequential, load_model\n",
    "from tensorflow.keras.layers import Dense\n",
    "from tensorflow.keras.layers import GRU\n",
    "from tensorflow.keras import optimizers\n",
    "from tensorflow.keras.callbacks import EarlyStopping\n",
    "from sklearn.preprocessing import MinMaxScaler\n",
    "scaler = MinMaxScaler(feature_range=(0,1))\n",
    "from sklearn.metrics import mean_squared_error, r2_score\n",
    "from math import sqrt\n",
    "import datetime as dt\n",
    "import time\n",
    "plt.style.use('ggplot')"
   ]
  },
  {
   "cell_type": "code",
   "execution_count": 2,
   "metadata": {},
   "outputs": [],
   "source": [
    "df = pd.read_csv('final_data.csv',index_col='Unnamed: 0',parse_dates=True)"
   ]
  },
  {
   "cell_type": "code",
   "execution_count": 3,
   "metadata": {
    "scrolled": true
   },
   "outputs": [
    {
     "data": {
      "text/html": [
       "<div>\n",
       "<style scoped>\n",
       "    .dataframe tbody tr th:only-of-type {\n",
       "        vertical-align: middle;\n",
       "    }\n",
       "\n",
       "    .dataframe tbody tr th {\n",
       "        vertical-align: top;\n",
       "    }\n",
       "\n",
       "    .dataframe thead th {\n",
       "        text-align: right;\n",
       "    }\n",
       "</style>\n",
       "<table border=\"1\" class=\"dataframe\">\n",
       "  <thead>\n",
       "    <tr style=\"text-align: right;\">\n",
       "      <th></th>\n",
       "      <th>FIRST</th>\n",
       "      <th>HIGH</th>\n",
       "      <th>LOW</th>\n",
       "      <th>CLOSE</th>\n",
       "      <th>VALUE</th>\n",
       "      <th>VOL</th>\n",
       "      <th>OPENINT</th>\n",
       "      <th>OPEN</th>\n",
       "      <th>LAST</th>\n",
       "      <th>Overall_Index</th>\n",
       "      <th>Top_50_Index</th>\n",
       "      <th>Industy_Index</th>\n",
       "      <th>RSI_14D</th>\n",
       "    </tr>\n",
       "  </thead>\n",
       "  <tbody>\n",
       "    <tr>\n",
       "      <th>1397-12-13</th>\n",
       "      <td>1249.0</td>\n",
       "      <td>1259.0</td>\n",
       "      <td>1224.0</td>\n",
       "      <td>1236.0</td>\n",
       "      <td>72074053563</td>\n",
       "      <td>58320975</td>\n",
       "      <td>3004</td>\n",
       "      <td>1232.0</td>\n",
       "      <td>1225.0</td>\n",
       "      <td>164238.6</td>\n",
       "      <td>7016.1</td>\n",
       "      <td>147424.0</td>\n",
       "      <td>51.494211</td>\n",
       "    </tr>\n",
       "    <tr>\n",
       "      <th>1397-12-14</th>\n",
       "      <td>1236.0</td>\n",
       "      <td>1236.0</td>\n",
       "      <td>1185.0</td>\n",
       "      <td>1209.0</td>\n",
       "      <td>55705654482</td>\n",
       "      <td>46078691</td>\n",
       "      <td>2373</td>\n",
       "      <td>1236.0</td>\n",
       "      <td>1185.0</td>\n",
       "      <td>162593.6</td>\n",
       "      <td>6937.3</td>\n",
       "      <td>145976.0</td>\n",
       "      <td>45.004217</td>\n",
       "    </tr>\n",
       "    <tr>\n",
       "      <th>1397-12-15</th>\n",
       "      <td>1213.0</td>\n",
       "      <td>1229.0</td>\n",
       "      <td>1170.0</td>\n",
       "      <td>1194.0</td>\n",
       "      <td>77233097825</td>\n",
       "      <td>64657910</td>\n",
       "      <td>3228</td>\n",
       "      <td>1209.0</td>\n",
       "      <td>1200.0</td>\n",
       "      <td>162827.3</td>\n",
       "      <td>6950.6</td>\n",
       "      <td>146165.0</td>\n",
       "      <td>47.667827</td>\n",
       "    </tr>\n",
       "    <tr>\n",
       "      <th>1397-12-18</th>\n",
       "      <td>1210.0</td>\n",
       "      <td>1210.0</td>\n",
       "      <td>1158.0</td>\n",
       "      <td>1165.0</td>\n",
       "      <td>62324686318</td>\n",
       "      <td>53509948</td>\n",
       "      <td>3218</td>\n",
       "      <td>1194.0</td>\n",
       "      <td>1159.0</td>\n",
       "      <td>163007.3</td>\n",
       "      <td>6959.9</td>\n",
       "      <td>146355.0</td>\n",
       "      <td>41.719946</td>\n",
       "    </tr>\n",
       "    <tr>\n",
       "      <th>1397-12-19</th>\n",
       "      <td>1160.0</td>\n",
       "      <td>1203.0</td>\n",
       "      <td>1149.0</td>\n",
       "      <td>1187.0</td>\n",
       "      <td>137201316315</td>\n",
       "      <td>115549687</td>\n",
       "      <td>5852</td>\n",
       "      <td>1165.0</td>\n",
       "      <td>1193.0</td>\n",
       "      <td>164470.4</td>\n",
       "      <td>7027.6</td>\n",
       "      <td>147749.0</td>\n",
       "      <td>47.563176</td>\n",
       "    </tr>\n",
       "  </tbody>\n",
       "</table>\n",
       "</div>"
      ],
      "text/plain": [
       "             FIRST    HIGH     LOW   CLOSE         VALUE        VOL  OPENINT  \\\n",
       "1397-12-13  1249.0  1259.0  1224.0  1236.0   72074053563   58320975     3004   \n",
       "1397-12-14  1236.0  1236.0  1185.0  1209.0   55705654482   46078691     2373   \n",
       "1397-12-15  1213.0  1229.0  1170.0  1194.0   77233097825   64657910     3228   \n",
       "1397-12-18  1210.0  1210.0  1158.0  1165.0   62324686318   53509948     3218   \n",
       "1397-12-19  1160.0  1203.0  1149.0  1187.0  137201316315  115549687     5852   \n",
       "\n",
       "              OPEN    LAST  Overall_Index  Top_50_Index  Industy_Index  \\\n",
       "1397-12-13  1232.0  1225.0       164238.6        7016.1       147424.0   \n",
       "1397-12-14  1236.0  1185.0       162593.6        6937.3       145976.0   \n",
       "1397-12-15  1209.0  1200.0       162827.3        6950.6       146165.0   \n",
       "1397-12-18  1194.0  1159.0       163007.3        6959.9       146355.0   \n",
       "1397-12-19  1165.0  1193.0       164470.4        7027.6       147749.0   \n",
       "\n",
       "              RSI_14D  \n",
       "1397-12-13  51.494211  \n",
       "1397-12-14  45.004217  \n",
       "1397-12-15  47.667827  \n",
       "1397-12-18  41.719946  \n",
       "1397-12-19  47.563176  "
      ]
     },
     "execution_count": 3,
     "metadata": {},
     "output_type": "execute_result"
    }
   ],
   "source": [
    "df.tail()"
   ]
  },
  {
   "cell_type": "code",
   "execution_count": 4,
   "metadata": {},
   "outputs": [
    {
     "name": "stdout",
     "output_type": "stream",
     "text": [
      "Character Variables (Dummies Generated, First Dummies Dropped): []\n",
      "break : No need to Backward Elimination\n",
      "Entered : FIRST \tAIC : 14255.121120318556\n",
      "break : No need to Backward Elimination\n",
      "Entered : LAST \tAIC : 12976.87131922883\n",
      "break : No need to Backward Elimination\n",
      "Entered : OPEN \tAIC : 12655.18721906074\n",
      "break : No need to Backward Elimination\n",
      "Entered : LOW \tAIC : 12595.026449814268\n",
      "break : No need to Backward Elimination\n",
      "Entered : HIGH \tAIC : 12525.312201726076\n",
      "break : No need to Backward Elimination\n",
      "Entered : Overall_Index \tAIC : 12515.773844918058\n",
      "break : No need to Backward Elimination\n",
      "Entered : VALUE \tAIC : 12503.637378312496\n",
      "break : No need to Backward Elimination\n",
      "Entered : VOL \tAIC : 12487.335722223226\n",
      "break : No need to Backward Elimination\n",
      "Entered : Top_50_Index \tAIC : 12476.657117654006\n",
      "Break : Significance Level\n",
      "                                 OLS Regression Results                                \n",
      "=======================================================================================\n",
      "Dep. Variable:                  CLOSE   R-squared (uncentered):                   1.000\n",
      "Model:                            OLS   Adj. R-squared (uncentered):              1.000\n",
      "Method:                 Least Squares   F-statistic:                          2.244e+06\n",
      "Date:                Thu, 24 Sep 2020   Prob (F-statistic):                        0.00\n",
      "Time:                        21:55:45   Log-Likelihood:                         -6230.3\n",
      "No. Observations:                1631   AIC:                                  1.248e+04\n",
      "Df Residuals:                    1623   BIC:                                  1.252e+04\n",
      "Df Model:                           8                                                  \n",
      "Covariance Type:            nonrobust                                                  \n",
      "=================================================================================\n",
      "                    coef    std err          t      P>|t|      [0.025      0.975]\n",
      "---------------------------------------------------------------------------------\n",
      "LAST              0.3436      0.022     15.716      0.000       0.301       0.386\n",
      "OPEN              0.1767      0.012     14.718      0.000       0.153       0.200\n",
      "LOW               0.2842      0.021     13.670      0.000       0.243       0.325\n",
      "HIGH              0.1994      0.021      9.650      0.000       0.159       0.240\n",
      "Overall_Index    -0.0004      0.000     -3.759      0.000      -0.001      -0.000\n",
      "VALUE          7.624e-11   1.63e-11      4.674      0.000    4.42e-11    1.08e-10\n",
      "VOL           -6.631e-08   1.77e-08     -3.747      0.000   -1.01e-07   -3.16e-08\n",
      "Top_50_Index      0.0091      0.003      3.559      0.000       0.004       0.014\n",
      "==============================================================================\n",
      "Omnibus:                      159.109   Durbin-Watson:                   1.279\n",
      "Prob(Omnibus):                  0.000   Jarque-Bera (JB):             1050.624\n",
      "Skew:                          -0.150   Prob(JB):                    7.24e-229\n",
      "Kurtosis:                       6.920   Cond. No.                     1.01e+10\n",
      "==============================================================================\n",
      "\n",
      "Warnings:\n",
      "[1] Standard Errors assume that the covariance matrix of the errors is correctly specified.\n",
      "[2] The condition number is large, 1.01e+10. This might indicate that there are\n",
      "strong multicollinearity or other numerical problems.\n",
      "AIC: 12476.657117654006\n",
      "BIC: 12519.832706474974\n",
      "Final Variables: ['LAST', 'OPEN', 'LOW', 'HIGH', 'Overall_Index', 'VALUE', 'VOL', 'Top_50_Index']\n"
     ]
    }
   ],
   "source": [
    "X = df.drop(['CLOSE'],axis=1)\n",
    "y = df['CLOSE']\n",
    "final_vars, iterations_logs = ss.BidirectionalStepwiseSelection(X,y, model_type=\"linear\")\n",
    "\n",
    "# Write Logs To .txt\n",
    "iterations_file = open(\"Iterations_logs_S.txt\",\"w+\") \n",
    "iterations_file.write(iterations_logs)\n",
    "iterations_file.close()"
   ]
  },
  {
   "cell_type": "code",
   "execution_count": 5,
   "metadata": {},
   "outputs": [
    {
     "name": "stdout",
     "output_type": "stream",
     "text": [
      "There are 1631 number of days in dataset.\n"
     ]
    }
   ],
   "source": [
    "print('There are {} number of days in dataset.'.format(df.shape[0]))"
   ]
  },
  {
   "cell_type": "code",
   "execution_count": 6,
   "metadata": {},
   "outputs": [],
   "source": [
    "train = df.loc['1389-01-01':'1394-01-01',['CLOSE','LAST', 'OPEN', 'LOW', 'HIGH', 'Overall_Index', 'VALUE', 'VOL', 'Top_50_Index']]\n",
    "val = df.loc['1394-01-01':'1396-07-01',['CLOSE','LAST', 'OPEN', 'LOW', 'HIGH', 'Overall_Index', 'VALUE', 'VOL', 'Top_50_Index']]\n",
    "test = df.loc['1396-07-01':'1398-01-01',['CLOSE','LAST', 'OPEN', 'LOW', 'HIGH', 'Overall_Index', 'VALUE', 'VOL', 'Top_50_Index']]\n",
    "train = scaler.fit_transform(train)\n",
    "val = scaler.transform(val)\n",
    "test = scaler.transform(test)\n"
   ]
  },
  {
   "cell_type": "code",
   "execution_count": 7,
   "metadata": {},
   "outputs": [
    {
     "name": "stdout",
     "output_type": "stream",
     "text": [
      "(1086, 9) (320, 9) (225, 9)\n"
     ]
    }
   ],
   "source": [
    "print(train.shape, val.shape, test.shape)"
   ]
  },
  {
   "cell_type": "code",
   "execution_count": 8,
   "metadata": {},
   "outputs": [],
   "source": [
    "# Setting up an early stop\n",
    "earlystop = EarlyStopping(monitor='val_loss', min_delta=0.0001, patience=80,  verbose=1, mode='min')\n",
    "callbacks_list = [earlystop]"
   ]
  },
  {
   "cell_type": "code",
   "execution_count": 12,
   "metadata": {},
   "outputs": [],
   "source": [
    "def fit_model_GRU(train,val,timesteps,hl,lr,batch,epochs):\n",
    "    X_train = []\n",
    "    Y_train = []\n",
    "    X_val = []\n",
    "    Y_val = []\n",
    "  \n",
    "    # Loop for training data\n",
    "    for i in range(timesteps,train.shape[0]):\n",
    "        X_train.append(train[i-timesteps:i])\n",
    "        Y_train.append(train[i][0])\n",
    "    X_train,Y_train = np.array(X_train),np.array(Y_train)\n",
    "  \n",
    "    # Loop for val data\n",
    "    for i in range(timesteps,val.shape[0]):\n",
    "        X_val.append(val[i-timesteps:i])\n",
    "        Y_val.append(val[i][0])\n",
    "    X_val,Y_val = np.array(X_val),np.array(Y_val)\n",
    "  \n",
    "    # Adding Layers to the model\n",
    "    model = Sequential()\n",
    "    model.add(GRU(X_train.shape[2],input_shape = (X_train.shape[1],X_train.shape[2]),return_sequences = True,\n",
    "                  activation = 'relu'))\n",
    "    for i in range(len(hl)-1):        \n",
    "        model.add(GRU(hl[i],activation = 'relu',return_sequences = True))\n",
    "    model.add(GRU(hl[-1],activation = 'relu'))\n",
    "    model.add(Dense(1))\n",
    "    model.compile(optimizer = optimizers.Adam(lr = lr), loss = 'mean_squared_error')\n",
    "  \n",
    "    # Training the data\n",
    "    history = model.fit(X_train,Y_train,epochs = epochs,batch_size = batch,validation_data = (X_val, Y_val),verbose = 0,\n",
    "                        shuffle = False, callbacks=callbacks_list)\n",
    "    model.reset_states()\n",
    "    return model, history.history['loss'], history.history['val_loss']\n",
    "  "
   ]
  },
  {
   "cell_type": "code",
   "execution_count": 9,
   "metadata": {},
   "outputs": [],
   "source": [
    "# Evaluating the model\n",
    "def evaluate_model(model,test,timesteps):\n",
    "    X_test = []\n",
    "    Y_test = []\n",
    "    mse = []\n",
    "    # Loop for testing data\n",
    "    for i in range(timesteps,test.shape[0]):\n",
    "        X_test.append(test[i-timesteps:i])\n",
    "        Y_test.append(test[i][0])\n",
    "    X_test,Y_test = np.array(X_test),np.array(Y_test)\n",
    "    #print(X_test.shape,Y_test.shape)\n",
    "  \n",
    "    # Prediction Time !!!!\n",
    "    Y_hat = model.predict(X_test)\n",
    "    mse = mean_squared_error(Y_test,Y_hat)\n",
    "    rmse = sqrt(mse)\n",
    "    r = r2_score(Y_test,Y_hat)\n",
    "    return mse, rmse, r, Y_test, Y_hat\n",
    "    #return mse"
   ]
  },
  {
   "cell_type": "code",
   "execution_count": 10,
   "metadata": {},
   "outputs": [],
   "source": [
    "# Plotting the predictions\n",
    "def plot_data(Y_test,Y_hat,title):\n",
    "    plt.plot(Y_test,c = 'r')\n",
    "    plt.plot(Y_hat,c = 'y')\n",
    "    plt.xlabel('Day')\n",
    "    plt.ylabel('Price')\n",
    "    plt.title('Stock Prediction Graph using Multivariate_LSTM model')\n",
    "    plt.legend(['Actual','Predicted'],loc = 'lower right')\n",
    "    plt.show()"
   ]
  },
  {
   "cell_type": "code",
   "execution_count": 11,
   "metadata": {},
   "outputs": [],
   "source": [
    "# Plotting the training errors\n",
    "def plot_error(train_loss,val_loss):\n",
    "    plt.plot(train_loss,c = 'r')\n",
    "    plt.plot(val_loss,c = 'b')\n",
    "    plt.ylabel('Loss')\n",
    "    plt.legend(['train','val'],loc = 'upper right')\n",
    "    plt.show()"
   ]
  },
  {
   "cell_type": "code",
   "execution_count": 13,
   "metadata": {},
   "outputs": [],
   "source": [
    "timesteps = 40\n",
    "hl = [40,35]\n",
    "lr = 1e-3\n",
    "batch_size = 64\n",
    "num_epochs = 500"
   ]
  },
  {
   "cell_type": "code",
   "execution_count": 16,
   "metadata": {},
   "outputs": [
    {
     "name": "stdout",
     "output_type": "stream",
     "text": [
      "Epoch 00163: early stopping\n"
     ]
    },
    {
     "data": {
      "image/png": "[encoded data removed]",
      "text/plain": [
       "<Figure size 432x288 with 1 Axes>"
      ]
     },
     "metadata": {},
     "output_type": "display_data"
    }
   ],
   "source": [
    "model,train_error,val_error = fit_model_GRU(train,val,timesteps,hl,lr,batch_size,num_epochs)\n",
    "plot_error(train_error,val_error)"
   ]
  },
  {
   "cell_type": "code",
   "execution_count": 17,
   "metadata": {},
   "outputs": [
    {
     "name": "stdout",
     "output_type": "stream",
     "text": [
      "MSE = 0.0006415954722290584\n",
      "RMSE = 0.025329734941942413\n",
      "R-Squared Score = 0.9606251079539545\n"
     ]
    },
    {
     "data": {
      "image/png": "[encoded data removed]",
      "text/plain": [
       "<Figure size 432x288 with 1 Axes>"
      ]
     },
     "metadata": {},
     "output_type": "display_data"
    }
   ],
   "source": [
    "mse, rmse, r2_value,true,predicted = evaluate_model(model,test,timesteps)\n",
    "print('MSE = {}'.format(mse))\n",
    "print('RMSE = {}'.format(rmse))\n",
    "print('R-Squared Score = {}'.format(r2_value))\n",
    "plot_data(true,predicted,'Multivariate_GRU')"
   ]
  },
  {
   "cell_type": "code",
   "execution_count": 18,
   "metadata": {},
   "outputs": [],
   "source": [
    "# Save a model\n",
    "model.save('models/MV3-GRU_40_[40,35]_1e-3_64.h5')\n",
    "#del model # Deletes the model\n",
    "# Load a model\n",
    "#model = load_model('MV3-LSTM_50_[40,35]_1e-3_64.h5')"
   ]
  }
 ],
 "metadata": {
  "kernelspec": {
   "display_name": "Python 3",
   "language": "python",
   "name": "python3"
  },
  "language_info": {
   "codemirror_mode": {
    "name": "ipython",
    "version": 3
   },
   "file_extension": ".py",
   "mimetype": "text/x-python",
   "name": "python",
   "nbconvert_exporter": "python",
   "pygments_lexer": "ipython3",
   "version": "3.7.6"
  }
 },
 "nbformat": 4,
 "nbformat_minor": 4
}
